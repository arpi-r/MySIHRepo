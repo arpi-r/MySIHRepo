{
 "cells": [
  {
   "cell_type": "code",
   "execution_count": 5,
   "metadata": {
    "collapsed": true
   },
   "outputs": [],
   "source": [
    "from urllib.request import urlopen\n",
    "import pandas as pd\n",
    "import numpy as np"
   ]
  },
  {
   "cell_type": "code",
   "execution_count": 33,
   "metadata": {
    "collapsed": true
   },
   "outputs": [],
   "source": [
    "fb=\"file:///C:/Users/arpithar/Desktop/sih/mockfb.html\""
   ]
  },
  {
   "cell_type": "code",
   "execution_count": 34,
   "metadata": {},
   "outputs": [],
   "source": [
    "page = urlopen(fb)"
   ]
  },
  {
   "cell_type": "code",
   "execution_count": 9,
   "metadata": {
    "collapsed": true
   },
   "outputs": [],
   "source": [
    "from bs4 import BeautifulSoup"
   ]
  },
  {
   "cell_type": "code",
   "execution_count": 35,
   "metadata": {},
   "outputs": [
    {
     "name": "stderr",
     "output_type": "stream",
     "text": [
      "C:\\Users\\arpithar\\Anaconda3\\lib\\site-packages\\bs4\\__init__.py:181: UserWarning: No parser was explicitly specified, so I'm using the best available HTML parser for this system (\"lxml\"). This usually isn't a problem, but if you run this code on another system, or in a different virtual environment, it may use a different parser and behave differently.\n",
      "\n",
      "The code that caused this warning is on line 193 of the file C:\\Users\\arpithar\\Anaconda3\\lib\\runpy.py. To get rid of this warning, change code that looks like this:\n",
      "\n",
      " BeautifulSoup(YOUR_MARKUP})\n",
      "\n",
      "to this:\n",
      "\n",
      " BeautifulSoup(YOUR_MARKUP, \"lxml\")\n",
      "\n",
      "  markup_type=markup_type))\n"
     ]
    }
   ],
   "source": [
    "soup = BeautifulSoup(page)"
   ]
  },
  {
   "cell_type": "code",
   "execution_count": 36,
   "metadata": {},
   "outputs": [
    {
     "data": {
      "text/plain": [
       "<div class=\"w3-container w3-card w3-white w3-round w3-margin\"><br/>\n",
       "<img alt=\"aastha disneyworld\" class=\"w3-left w3-circle w3-margin-right\" src=\"disneyworld.jpg\" style=\"width:60px\"/>\n",
       "<span class=\"w3-right w3-opacity\">1 min</span>\n",
       "<h4>John Doe</h4><br/>\n",
       "<hr class=\"w3-clear\"/>\n",
       "<p>Lorem ipsum dolor sit amet, consectetur adipisicing elit, sed do eiusmod tempor incididunt ut labore et dolore magna aliqua. Ut enim ad minim veniam, quis nostrud exercitation ullamco laboris nisi ut aliquip ex ea commodo consequat.</p>\n",
       "<div class=\"w3-row-padding\" style=\"margin:0 -16px\">\n",
       "<div class=\"w3-half\">\n",
       "<img alt=\"Statue of Liberty\" class=\"w3-margin-bottom\" src=\"statueofliberty.jpeg\" style=\"width:100%\"/>\n",
       "</div>\n",
       "<div class=\"w3-half\">\n",
       "<img alt=\"ggb arpi\" class=\"w3-margin-bottom\" src=\"goldengatebridge.jpg\" style=\"width:100%\"/>\n",
       "</div>\n",
       "</div>\n",
       "<button class=\"w3-button w3-theme-d1 w3-margin-bottom\" type=\"button\"><i class=\"fa fa-thumbs-up\"></i>  Like</button>\n",
       "<button class=\"w3-button w3-theme-d2 w3-margin-bottom\" type=\"button\"><i class=\"fa fa-comment\"></i>  Comment</button>\n",
       "</div>"
      ]
     },
     "execution_count": 36,
     "metadata": {},
     "output_type": "execute_result"
    }
   ],
   "source": [
    "l=soup.find('div', class_='w3-container w3-card w3-white w3-round w3-margin')\n",
    "l"
   ]
  },
  {
   "cell_type": "code",
   "execution_count": 48,
   "metadata": {},
   "outputs": [],
   "source": [
    "x=l.find(\"img\",src=\"disneyworld.jpg\")"
   ]
  },
  {
   "cell_type": "code",
   "execution_count": 38,
   "metadata": {},
   "outputs": [
    {
     "name": "stdout",
     "output_type": "stream",
     "text": [
      "<img alt=\"aastha disneyworld\" class=\"w3-left w3-circle w3-margin-right\" src=\"disneyworld.jpg\" style=\"width:60px\"/>\n"
     ]
    }
   ],
   "source": [
    "print(x)"
   ]
  },
  {
   "cell_type": "code",
   "execution_count": null,
   "metadata": {},
   "outputs": [],
   "source": []
  },
  {
   "cell_type": "code",
   "execution_count": 49,
   "metadata": {},
   "outputs": [],
   "source": [
    "x=str(x[\"src\"])"
   ]
  },
  {
   "cell_type": "code",
   "execution_count": 50,
   "metadata": {
    "collapsed": true
   },
   "outputs": [],
   "source": [
    "ext=x[x.index('.'):]"
   ]
  },
  {
   "cell_type": "code",
   "execution_count": 52,
   "metadata": {},
   "outputs": [
    {
     "data": {
      "text/plain": [
       "'img3.jpg'"
      ]
     },
     "execution_count": 52,
     "metadata": {},
     "output_type": "execute_result"
    }
   ],
   "source": [
    "import shutil\n",
    "shutil.copy(x,(\"img3\"+ext))"
   ]
  },
  {
   "cell_type": "code",
   "execution_count": null,
   "metadata": {
    "collapsed": true
   },
   "outputs": [],
   "source": []
  },
  {
   "cell_type": "code",
   "execution_count": 57,
   "metadata": {
    "collapsed": true
   },
   "outputs": [],
   "source": [
    "x=l.find_all(\"img\",src=True)"
   ]
  },
  {
   "cell_type": "code",
   "execution_count": 58,
   "metadata": {},
   "outputs": [
    {
     "name": "stdout",
     "output_type": "stream",
     "text": [
      "[<img alt=\"aastha disneyworld\" class=\"w3-left w3-circle w3-margin-right\" src=\"disneyworld.jpg\" style=\"width:60px\"/>, <img alt=\"Statue of Liberty\" class=\"w3-margin-bottom\" src=\"statueofliberty.jpeg\" style=\"width:100%\"/>, <img alt=\"ggb arpi\" class=\"w3-margin-bottom\" src=\"goldengatebridge.jpg\" style=\"width:100%\"/>]\n"
     ]
    }
   ],
   "source": [
    "print(x)"
   ]
  },
  {
   "cell_type": "code",
   "execution_count": 60,
   "metadata": {},
   "outputs": [],
   "source": [
    "c=1\n",
    "for i in x:\n",
    "    i=str(i[\"src\"])\n",
    "    ext=i[i.index('.'):]\n",
    "    shutil.copy(i,(\"img\"+str(c)+ext))\n",
    "    c=c+1"
   ]
  },
  {
   "cell_type": "code",
   "execution_count": null,
   "metadata": {
    "collapsed": true
   },
   "outputs": [],
   "source": []
  }
 ],
 "metadata": {
  "kernelspec": {
   "display_name": "Python 3",
   "language": "python",
   "name": "python3"
  },
  "language_info": {
   "codemirror_mode": {
    "name": "ipython",
    "version": 3
   },
   "file_extension": ".py",
   "mimetype": "text/x-python",
   "name": "python",
   "nbconvert_exporter": "python",
   "pygments_lexer": "ipython3",
   "version": "3.6.3"
  }
 },
 "nbformat": 4,
 "nbformat_minor": 2
}
